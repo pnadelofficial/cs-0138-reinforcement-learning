{
 "cells": [
  {
   "cell_type": "code",
   "execution_count": 1,
   "id": "7713ced0",
   "metadata": {},
   "outputs": [],
   "source": [
    "from racetrack import Track\n",
    "import numpy as np\n",
    "import matplotlib.pyplot as plt"
   ]
  },
  {
   "cell_type": "code",
   "execution_count": 2,
   "id": "73609fce",
   "metadata": {},
   "outputs": [],
   "source": [
    "course1 = np.array([\n",
    "    [-1, -1, -1, -1, -1, -1, -1, -1, -1, -1, -1, -1, -1, -1, -1, -1, -1, -1, -1, -1, -1, -1, -1, -1,  0,  0,  0,  0,  0,  0,  0,  0,  0,  0,  0,  2],\n",
    "    [-1, -1, -1, -1, -1, -1, -1, -1, -1, -1, -1, -1, -1, -1, -1, -1, -1, -1, -1, -1, -1, -1, -1,  0,  0,  0,  0,  0,  0,  0,  0,  0,  0,  0,  0,  2],\n",
    "    [-1, -1, -1, -1, -1, -1, -1, -1, -1, -1, -1, -1, -1, -1, -1, -1, -1, -1, -1, -1, -1,  -1, 0,  0,  0,  0,  0,  0,  0,  0,  0,  0,  0,  0,  0,  2],\n",
    "    [-1, -1, -1, -1, -1, -1, -1, -1, -1, -1, -1, -1, -1, -1, -1, -1, -1, -1, -1, -1, -1,  0,  0,  0,  0,  0,  0,  0,  0,  0,  0,  0,  0,  0,  0,  2],\n",
    "    [-1, -1, -1, -1, -1, -1, -1, -1, -1, -1, -1, -1, -1, -1, -1, -1, -1, -1, -1, -1,  0,  0,  0,  0,  0,  0,  0,  0,  0,  0,  0,  0,  0,  0,  0,  2],\n",
    "    [-1, -1, -1, -1, -1, -1, -1, -1, -1, -1, -1, -1, -1, -1, -1, -1, -1, -1, -1,  0,  0,  0,  0,  0,  0,  0,  0,  0,  0,  0,  0,  0,  0,  0,  0,  2],\n",
    "    [-1, -1, -1, -1, -1, -1, -1, -1, -1, -1, -1, -1, -1, -1, -1, -1, -1, -1, -1,  0,  0,  0,  0,  0,  0,  0,  0,  0,  0, -1, -1, -1, -1, -1, -1, -1],\n",
    "    [-1, -1, -1, -1, -1, -1, -1, -1, -1, -1, -1, -1, -1, -1, -1, -1, -1, -1, -1,  0,  0,  0,  0,  0,  0,  0,  0,  0, -1, -1, -1, -1, -1, -1, -1, -1],\n",
    "    [-1, -1, -1, -1, -1, -1, -1, -1, -1, -1, -1, -1, -1, -1, -1, -1, -1, -1, -1,  0,  0,  0,  0,  0,  0,  0,  0,  0, -1, -1, -1, -1, -1, -1, -1, -1],\n",
    "    [-1, -1, -1, -1, -1, -1, -1, -1, -1, -1, -1, -1, -1, -1, -1, -1, -1, -1, -1,  0,  0,  0,  0,  0,  0,  0,  0,  0, -1, -1, -1, -1, -1, -1, -1, -1],\n",
    "    [-1, -1, -1, -1, -1, -1, -1, -1, -1, -1, -1, -1, -1, -1, -1, -1, -1, -1, -1,  0,  0,  0,  0,  0,  0,  0,  0,  0, -1, -1, -1, -1, -1, -1, -1, -1],\n",
    "    [-1, -1, -1, -1, -1, -1, -1, -1, -1, -1, -1, -1, -1, -1, -1, -1, -1, -1, -1,  0,  0,  0,  0,  0,  0,  0,  0,  0, -1, -1, -1, -1, -1, -1, -1, -1],\n",
    "    [-1, -1, -1, -1, -1, -1, -1, -1, -1, -1, -1, -1, -1, -1, -1, -1, -1, -1, -1,  0,  0,  0,  0,  0,  0,  0,  0,  0, -1, -1, -1, -1, -1, -1, -1, -1],\n",
    "    [-1, -1, -1, -1, -1, -1, -1, -1, -1, -1, -1, -1, -1, -1, -1, -1, -1, -1, -1,  0,  0,  0,  0,  0,  0,  0,  0,  0, -1, -1, -1, -1, -1, -1, -1, -1],\n",
    "    [-1, -1, -1, -1, -1, -1, -1, -1, -1, -1, -1, -1, -1, -1, -1, -1, -1, -1, -1,  0,  0,  0,  0,  0,  0,  0,  0,  0, -1, -1, -1, -1, -1, -1, -1, -1],\n",
    "    [-1, -1, -1, -1, -1, -1, -1, -1, -1, -1, -1, -1, -1, -1, -1, -1, -1, -1, -1,  0,  0,  0,  0,  0,  0,  0,  0,  0, -1, -1, -1, -1, -1, -1, -1, -1],\n",
    "    [-1, -1, -1, -1, -1, -1, -1, -1, -1, -1, -1, -1, -1, -1, -1, -1, -1, -1, -1,  0,  0,  0,  0,  0,  0,  0,  0,  0, -1, -1, -1, -1, -1, -1, -1, -1],\n",
    "    [-1, -1, -1, -1, -1, -1, -1, -1, -1, -1, -1, -1, -1, -1, -1, -1, -1, -1, -1,  0,  0,  0,  0,  0,  0,  0,  0,  0, -1, -1, -1, -1, -1, -1, -1, -1],\n",
    "    [-1, -1, -1, -1, -1, -1, -1, -1, -1, -1, -1, -1, -1, -1, -1, -1, -1, -1, -1, -1,  0,  0,  0,  0,  0,  0,  0,  0, -1, -1, -1, -1, -1, -1, -1, -1],\n",
    "    [-1, -1, -1, -1, -1, -1, -1, -1, -1, -1, -1, -1, -1, -1, -1, -1, -1, -1, -1, -1,  0,  0,  0,  0,  0,  0,  0,  0, -1, -1, -1, -1, -1, -1, -1, -1],\n",
    "    [-1, -1, -1, -1, -1, -1, -1, -1, -1, -1, -1, -1, -1, -1, -1, -1, -1, -1, -1, -1,  0,  0,  0,  0,  0,  0,  0,  0, -1, -1, -1, -1, -1, -1, -1, -1],\n",
    "    [-1, -1, -1, -1, -1, -1, -1, -1, -1, -1, -1, -1, -1, -1, -1, -1, -1, -1, -1, -1,  0,  0,  0,  0,  0,  0,  0,  0, -1, -1, -1, -1, -1, -1, -1, -1],\n",
    "    [-1, -1, -1, -1, -1, -1, -1, -1, -1, -1, -1, -1, -1, -1, -1, -1, -1, -1, -1, -1,  0,  0,  0,  0,  0,  0,  0,  0, -1, -1, -1, -1, -1, -1, -1, -1],\n",
    "    [-1, -1, -1, -1, -1, -1, -1, -1, -1, -1, -1, -1, -1, -1, -1, -1, -1, -1, -1, -1,  0,  0,  0,  0,  0,  0,  0,  0, -1, -1, -1, -1, -1, -1, -1, -1],\n",
    "    [-1, -1, -1, -1, -1, -1, -1, -1, -1, -1, -1, -1, -1, -1, -1, -1, -1, -1, -1, -1,  0,  0,  0,  0,  0,  0,  0,  0, -1, -1, -1, -1, -1, -1, -1, -1],\n",
    "    [-1, -1, -1, -1, -1, -1, -1, -1, -1, -1, -1, -1, -1, -1, -1, -1, -1, -1, -1, -1,  0,  0,  0,  0,  0,  0,  0,  0, -1, -1, -1, -1, -1, -1, -1, -1],\n",
    "    [-1, -1, -1, -1, -1, -1, -1, -1, -1, -1, -1, -1, -1, -1, -1, -1, -1, -1, -1, -1, -1,  0,  0,  0,  0,  0,  0,  0, -1, -1, -1, -1, -1, -1, -1, -1],\n",
    "    [-1, -1, -1, -1, -1, -1, -1, -1, -1, -1, -1, -1, -1, -1, -1, -1, -1, -1, -1, -1, -1,  0,  0,  0,  0,  0,  0,  0, -1, -1, -1, -1, -1, -1, -1, -1],\n",
    "    [-1, -1, -1, -1, -1, -1, -1, -1, -1, -1, -1, -1, -1, -1, -1, -1, -1, -1, -1, -1, -1,  0,  0,  0,  0,  0,  0,  0, -1, -1, -1, -1, -1, -1, -1, -1],\n",
    "    [-1, -1, -1, -1, -1, -1, -1, -1, -1, -1, -1, -1, -1, -1, -1, -1, -1, -1, -1, -1, -1,  0,  0,  0,  0,  0,  0,  0, -1, -1, -1, -1, -1, -1, -1, -1],\n",
    "    [-1, -1, -1, -1, -1, -1, -1, -1, -1, -1, -1, -1, -1, -1, -1, -1, -1, -1, -1, -1, -1,  0,  0,  0,  0,  0,  0,  0, -1, -1, -1, -1, -1, -1, -1, -1],\n",
    "    [-1, -1, -1, -1, -1, -1, -1, -1, -1, -1, -1, -1, -1, -1, -1, -1, -1, -1, -1, -1, -1,  0,  0,  0,  0,  0,  0,  0, -1, -1, -1, -1, -1, -1, -1, -1],\n",
    "    [-1, -1, -1, -1, -1, -1, -1, -1, -1, -1, -1, -1, -1, -1, -1, -1, -1, -1, -1, -1, -1,  0,  0,  0,  0,  0,  0,  0, -1, -1, -1, -1, -1, -1, -1, -1],\n",
    "    [-1, -1, -1, -1, -1, -1, -1, -1, -1, -1, -1, -1, -1, -1, -1, -1, -1, -1, -1, -1, -1, -1,  0,  0,  0,  0,  0,  0, -1, -1, -1, -1, -1, -1, -1, -1],\n",
    "    [-1, -1, -1, -1, -1, -1, -1, -1, -1, -1, -1, -1, -1, -1, -1, -1, -1, -1, -1, -1, -1, -1,  0,  0,  0,  0,  0,  0, -1, -1, -1, -1, -1, -1, -1, -1],\n",
    "    [-1, -1, -1, -1, -1, -1, -1, -1, -1, -1, -1, -1, -1, -1, -1, -1, -1, -1, -1, -1, -1, -1,  1,  1,  1,  1,  1,  1, -1, -1, -1, -1, -1, -1, -1, -1],\n",
    "])"
   ]
  },
  {
   "cell_type": "code",
   "execution_count": 3,
   "id": "bf7aa23d",
   "metadata": {},
   "outputs": [],
   "source": [
    "track = Track(course=course1)"
   ]
  },
  {
   "cell_type": "code",
   "execution_count": 4,
   "id": "72dbaaf9",
   "metadata": {},
   "outputs": [],
   "source": [
    "actions = [(-1, -1), (-1, 0), (-1, 1), (0, -1), (0, 0), (0, 1), (1, -1), (1, 0), (1, 1)]\n",
    "Q = np.zeros((track.vert_size, track.hori_size, len(list(range(track.max_velocity+1))), len(list(range(track.max_velocity+1))), 3, 3)) # vert, hori, max_x_vel, max_y_vel, poss_x_actions, poss_y_actions\n",
    "C = np.zeros((track.vert_size, track.hori_size, len(list(range(track.max_velocity+1))), len(list(range(track.max_velocity+1))), 3, 3)) # vert, hori, max_x_vel, max_y_vel, poss_x_actions, poss_y_actions\n",
    "pi = np.zeros((track.vert_size, track.hori_size, len(list(range(track.max_velocity+1))), len(list(range(track.max_velocity+1)))), dtype=np.int64) # vert, hori, max_x_vel, max_y_vel\n",
    "explored = np.zeros((track.vert_size, track.hori_size))\n",
    "episodes = []"
   ]
  },
  {
   "cell_type": "code",
   "execution_count": null,
   "id": "f821772f",
   "metadata": {},
   "outputs": [],
   "source": [
    "epsilon = 0.1\n",
    "max_steps = 101\n",
    "\n",
    "episode = []\n",
    "reward = -1\n",
    "steps = 0\n",
    "while reward == -1:\n",
    "    pos_x, pos_y, vel_x, vel_y = track.get_state()\n",
    "    explored[pos_x, pos_y] += 1\n",
    "    if np.random.rand() < epsilon:\n",
    "        action = actions[np.random.choice(list(range(len(actions))))]\n",
    "    else:\n",
    "        action = actions[pi[pos_x, pos_y, vel_x, vel_y]]\n",
    "    reward = track.move(action)\n",
    "    steps += 1\n",
    "    if steps >= max_steps:\n",
    "        break\n",
    "    episode.append((((pos_x, pos_y), (vel_x, vel_y)), action, reward))"
   ]
  },
  {
   "cell_type": "code",
   "execution_count": 8,
   "id": "791b8441",
   "metadata": {},
   "outputs": [
    {
     "data": {
      "text/plain": [
       "100"
      ]
     },
     "execution_count": 8,
     "metadata": {},
     "output_type": "execute_result"
    }
   ],
   "source": [
    "len(episode)"
   ]
  },
  {
   "cell_type": "code",
   "execution_count": null,
   "id": "987e06c9",
   "metadata": {},
   "outputs": [],
   "source": [
    "alpha = .01\n",
    "gamma = .99\n",
    "while len(episode) > 0:\n",
    "    state, action, reward = episode.pop()\n",
    "    pos_x, pos_y = state[0][0], state[0][1]\n",
    "    vel_x, vel_y = state[1][0], state[1][1]\n",
    "    action_x, action_y = action\n",
    "    state_action = (pos_x, pos_y, vel_x, vel_y, action_x, action_y)\n",
    "    if np.random.rand() < epsilon:\n",
    "        action_prime = actions[np.random.choice(list(range(len(actions))))]\n",
    "    else:\n",
    "        action_prime = actions[pi[pos_x, pos_y, vel_x, vel_y]]\n",
    "    vel_prime = np.array((vel_x + action_prime[0], vel_y + action_prime[1]))\n",
    "    vel_prime = np.minimum(vel_prime, 4) # max vel\n",
    "    vel_prime = np.maximum(vel_prime, 0)\n",
    "    for tstep in range(0, 5):\n",
    "        t = tstep/5\n",
    "        pos_prime = np.int64(np.array([pos_x, pos_y]) - np.round(vel_prime * t))\n",
    "        if track.is_off_track(pos_prime):\n",
    "            track.reset()\n",
    "            reward = -1\n",
    "        if track.is_at_finish(pos_prime):\n",
    "            reward = 0\n",
    "    state_action_prime = (pos_prime[0], pos_prime[1], vel_prime[0], vel_prime[1], action_prime[0], action_prime[1])\n",
    "    Q[state_action] += Q[state_action] + alpha*(reward + gamma*Q[state_action_prime] - Q[state_action])"
   ]
  },
  {
   "cell_type": "code",
   "execution_count": 48,
   "id": "c7fcd14c",
   "metadata": {},
   "outputs": [
    {
     "name": "stderr",
     "output_type": "stream",
     "text": [
      "/tmp/ipykernel_8768/1338076935.py:55: RuntimeWarning: overflow encountered in scalar add\n",
      "  Q[state_action] += Q[state_action] + alpha*(reward + gamma*Q[state_action_prime] - Q[state_action])\n",
      "/tmp/ipykernel_8768/1338076935.py:55: RuntimeWarning: invalid value encountered in scalar add\n",
      "  Q[state_action] += Q[state_action] + alpha*(reward + gamma*Q[state_action_prime] - Q[state_action])\n"
     ]
    },
    {
     "ename": "IndexError",
     "evalue": "index -37 is out of bounds for axis 0 with size 36",
     "output_type": "error",
     "traceback": [
      "\u001b[31m---------------------------------------------------------------------------\u001b[39m",
      "\u001b[31mIndexError\u001b[39m                                Traceback (most recent call last)",
      "\u001b[36mCell\u001b[39m\u001b[36m \u001b[39m\u001b[32mIn[48]\u001b[39m\u001b[32m, line 55\u001b[39m\n\u001b[32m     53\u001b[39m         \u001b[38;5;28;01mbreak\u001b[39;00m\n\u001b[32m     54\u001b[39m state_action_prime = (pos_prime[\u001b[32m0\u001b[39m], pos_prime[\u001b[32m1\u001b[39m], vel_prime[\u001b[32m0\u001b[39m], vel_prime[\u001b[32m1\u001b[39m], action_prime[\u001b[32m0\u001b[39m], action_prime[\u001b[32m1\u001b[39m])\n\u001b[32m---> \u001b[39m\u001b[32m55\u001b[39m Q[state_action] += Q[state_action] + alpha*(reward + gamma*\u001b[43mQ\u001b[49m\u001b[43m[\u001b[49m\u001b[43mstate_action_prime\u001b[49m\u001b[43m]\u001b[49m - Q[state_action])\n\u001b[32m     57\u001b[39m q_values = []\n\u001b[32m     58\u001b[39m \u001b[38;5;28;01mfor\u001b[39;00m ax \u001b[38;5;129;01min\u001b[39;00m [-\u001b[32m1\u001b[39m, \u001b[32m0\u001b[39m, \u001b[32m1\u001b[39m]:\n",
      "\u001b[31mIndexError\u001b[39m: index -37 is out of bounds for axis 0 with size 36"
     ]
    }
   ],
   "source": [
    "actions = [(-1, -1), (-1, 0), (-1, 1), (0, -1), (0, 0), (0, 1), (1, -1), (1, 0), (1, 1)]\n",
    "Q = np.zeros((track.vert_size, track.hori_size, len(list(range(track.max_velocity+1))), len(list(range(track.max_velocity+1))), 3, 3)) # vert, hori, max_x_vel, max_y_vel, poss_x_actions, poss_y_actions\n",
    "C = np.zeros((track.vert_size, track.hori_size, len(list(range(track.max_velocity+1))), len(list(range(track.max_velocity+1))), 3, 3)) # vert, hori, max_x_vel, max_y_vel, poss_x_actions, poss_y_actions\n",
    "pi = np.zeros((track.vert_size, track.hori_size, len(list(range(track.max_velocity+1))), len(list(range(track.max_velocity+1)))), dtype=np.int64) # vert, hori, max_x_vel, max_y_vel\n",
    "explored = np.zeros((track.vert_size, track.hori_size))\n",
    "alpha = .1\n",
    "gamma = .9\n",
    "epsilon = 0.1\n",
    "max_steps = 251\n",
    "track = Track(course=course1)\n",
    "\n",
    "episodes = []\n",
    "for e in range(1, 50001):\n",
    "    episode = []\n",
    "    reward = -1\n",
    "    steps = 0\n",
    "    while reward == -1:\n",
    "        pos_x, pos_y, vel_x, vel_y = track.get_state()\n",
    "        explored[pos_x, pos_y] += 1\n",
    "        if np.random.rand() < epsilon:\n",
    "            action = actions[np.random.choice(list(range(len(actions))))]\n",
    "        else:\n",
    "            action = actions[pi[pos_x, pos_y, vel_x, vel_y]]\n",
    "        reward = track.move(action)\n",
    "        steps += 1\n",
    "        if steps >= max_steps:\n",
    "            break\n",
    "        episode.append((((pos_x, pos_y), (vel_x, vel_y)), action, reward))\n",
    "    episodes.append(episode.copy())\n",
    "\n",
    "    while len(episode) > 0:\n",
    "        state, action, reward = episode.pop()\n",
    "        pos_x, pos_y = state[0][0], state[0][1]\n",
    "        vel_x, vel_y = state[1][0], state[1][1]\n",
    "        action_x, action_y = action\n",
    "        state_action = (pos_x, pos_y, vel_x, vel_y, action_x, action_y)\n",
    "        if np.random.rand() < epsilon:\n",
    "            action_prime = actions[np.random.choice(list(range(len(actions))))]\n",
    "        else:\n",
    "            action_prime = actions[pi[pos_x, pos_y, vel_x, vel_y]]\n",
    "        vel_prime = np.array((vel_x + action_prime[0], vel_y + action_prime[1]))\n",
    "        vel_prime = np.minimum(vel_prime, 4) # max vel\n",
    "        vel_prime = np.maximum(vel_prime, 0)\n",
    "        for tstep in range(0, 5):\n",
    "            t = tstep/5\n",
    "            pos_prime = np.int64(np.array([pos_x, pos_y]) - np.round(vel_prime * t))\n",
    "            if track.is_off_track(pos_prime):\n",
    "                track.reset()\n",
    "                reward = -1\n",
    "                break\n",
    "            if track.is_at_finish(pos_prime):\n",
    "                reward = 0\n",
    "                break\n",
    "        state_action_prime = (pos_prime[0], pos_prime[1], vel_prime[0], vel_prime[1], action_prime[0], action_prime[1])\n",
    "        Q[state_action] += Q[state_action] + alpha*(reward + gamma*Q[state_action_prime] - Q[state_action])\n",
    "\n",
    "        q_values = []\n",
    "        for ax in [-1, 0, 1]:\n",
    "            for ay in [-1, 0, 1]:\n",
    "                q_values.append(Q[(pos_x, pos_y, vel_x, vel_y, ax, ay)])\n",
    "        \n",
    "        best_action_idx = np.argmax(q_values)\n",
    "        pi[pos_x, pos_y, vel_x, vel_y] = best_action_idx"
   ]
  },
  {
   "cell_type": "code",
   "execution_count": null,
   "id": "2ad033a4",
   "metadata": {},
   "outputs": [],
   "source": [
    "pos_map = np.zeros((track.vert_size, track.hori_size))\n",
    "track.reset()\n",
    "G = 1\n",
    "for e in range(1000):\n",
    "    pos_x, pos_y, vel_x, vel_y = track.get_state()\n",
    "    pos_map[pos_x, pos_y] += 1\n",
    "    action = actions[pi[pos_x, pos_y, vel_x, vel_y]]\n",
    "    G += track.move(action)\n",
    "    if track.is_at_finish(track.position):\n",
    "        break\n",
    "pos_map = (pos_map > 0).astype(np.float32)\n",
    "pos_map += track.course\n",
    "\n",
    "pos_map = np.flip(pos_map, axis=1)"
   ]
  },
  {
   "cell_type": "code",
   "execution_count": null,
   "id": "67d38885",
   "metadata": {},
   "outputs": [
    {
     "data": {
      "text/plain": [
       "<matplotlib.image.AxesImage at 0x72bc5410eae0>"
      ]
     },
     "execution_count": 47,
     "metadata": {},
     "output_type": "execute_result"
    },
    {
     "data": {
      "image/png": "[encoded data removed]",
      "text/plain": [
       "<Figure size 640x480 with 1 Axes>"
      ]
     },
     "metadata": {},
     "output_type": "display_data"
    }
   ],
   "source": [
    "plt.imshow(pos_map)"
   ]
  },
  {
   "cell_type": "code",
   "execution_count": null,
   "id": "8302d308",
   "metadata": {},
   "outputs": [],
   "source": []
  }
 ],
 "metadata": {
  "kernelspec": {
   "display_name": "Python 3",
   "language": "python",
   "name": "python3"
  },
  "language_info": {
   "codemirror_mode": {
    "name": "ipython",
    "version": 3
   },
   "file_extension": ".py",
   "mimetype": "text/x-python",
   "name": "python",
   "nbconvert_exporter": "python",
   "pygments_lexer": "ipython3",
   "version": "3.12.1"
  }
 },
 "nbformat": 4,
 "nbformat_minor": 5
}

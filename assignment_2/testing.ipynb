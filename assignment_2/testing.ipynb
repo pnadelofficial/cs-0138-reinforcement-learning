{
 "cells": [
  {
   "cell_type": "code",
   "execution_count": 1,
   "id": "77e75225",
   "metadata": {},
   "outputs": [
    {
     "data": {
      "text/plain": [
       "array([[0., 0., 0., 0., 0., 0., 0., 0., 0., 0.],\n",
       "       [0., 0., 0., 0., 0., 0., 0., 0., 0., 0.],\n",
       "       [0., 0., 0., 0., 0., 0., 0., 0., 0., 0.],\n",
       "       [0., 0., 0., 0., 0., 0., 0., 0., 0., 0.],\n",
       "       [0., 0., 0., 0., 0., 0., 0., 0., 0., 0.],\n",
       "       [0., 0., 0., 0., 0., 0., 0., 0., 0., 0.],\n",
       "       [0., 0., 0., 0., 0., 0., 0., 0., 0., 0.],\n",
       "       [0., 0., 0., 0., 0., 0., 0., 0., 0., 0.],\n",
       "       [0., 0., 0., 0., 0., 0., 0., 0., 0., 0.],\n",
       "       [0., 0., 0., 0., 0., 0., 0., 0., 0., 0.],\n",
       "       [0., 0., 0., 0., 0., 0., 0., 0., 0., 0.],\n",
       "       [0., 0., 0., 0., 0., 0., 0., 0., 0., 0.],\n",
       "       [0., 0., 0., 0., 0., 0., 0., 0., 0., 0.],\n",
       "       [0., 0., 0., 0., 0., 0., 0., 0., 0., 0.],\n",
       "       [0., 0., 0., 0., 0., 0., 0., 0., 0., 0.],\n",
       "       [0., 0., 0., 0., 0., 0., 0., 0., 0., 0.],\n",
       "       [0., 0., 0., 0., 0., 0., 0., 0., 0., 0.],\n",
       "       [0., 0., 0., 0., 0., 0., 0., 0., 0., 0.],\n",
       "       [0., 0., 0., 0., 0., 0., 0., 0., 0., 0.],\n",
       "       [0., 0., 0., 0., 0., 0., 0., 0., 0., 0.],\n",
       "       [0., 0., 0., 0., 0., 0., 0., 0., 0., 0.],\n",
       "       [0., 0., 0., 0., 0., 0., 0., 0., 0., 0.],\n",
       "       [0., 0., 0., 0., 0., 0., 0., 0., 0., 0.],\n",
       "       [0., 0., 0., 0., 0., 0., 0., 0., 0., 0.],\n",
       "       [0., 0., 0., 0., 0., 0., 0., 0., 0., 0.]])"
      ]
     },
     "execution_count": 1,
     "metadata": {},
     "output_type": "execute_result"
    }
   ],
   "source": [
    "import matplotlib.pyplot as plt\n",
    "import numpy as np\n",
    "\n",
    "track = np.zeros((25, 10))\n",
    "track"
   ]
  },
  {
   "cell_type": "code",
   "execution_count": 2,
   "id": "f1e9ce59",
   "metadata": {},
   "outputs": [],
   "source": [
    "# starting places\n",
    "track[-1, :6] = -np.inf"
   ]
  },
  {
   "cell_type": "code",
   "execution_count": 3,
   "id": "fe5cc20a",
   "metadata": {},
   "outputs": [],
   "source": [
    "track[-2, :5] = -np.inf\n",
    "track[-3, :5] = -np.inf\n",
    "track[-4, :4] = -np.inf\n",
    "track[-5, :4] = -np.inf\n",
    "track[-6, :3] = -np.inf\n",
    "track[-7, :3] = -np.inf\n",
    "track[-8, :2] = -np.inf\n",
    "track[-9, :2] = -np.inf\n",
    "track[-10, :2] = -np.inf\n",
    "track[-11, :2] = -np.inf\n",
    "track[-12, :2] = -np.inf\n",
    "track[-13, :2] = -np.inf\n",
    "track[-14, :2] = -np.inf\n",
    "track[-15, :2] = -np.inf\n",
    "track[-16, :2] = -np.inf\n",
    "track[-17, :2] = -np.inf\n",
    "track[-18, :3] = -np.inf\n",
    "track[-19, :3] = -np.inf\n",
    "track[-20, :4] = -np.inf\n",
    "track[-21, :4] = -np.inf\n",
    "track[-22, :5] = -np.inf\n",
    "track[-23, :5] = -np.inf\n",
    "track[-23, :5] = -np.inf\n",
    "track[-24, :6] = -np.inf\n",
    "track[-25, :7] = -np.inf"
   ]
  },
  {
   "cell_type": "code",
   "execution_count": 4,
   "id": "41518e32",
   "metadata": {},
   "outputs": [],
   "source": [
    "track[-4, -1:] = -np.inf\n",
    "track[-5, -2:] = -np.inf\n",
    "track[-6, -3:] = -np.inf\n",
    "track[-7, -3:] = -np.inf\n",
    "track[-8, -4:] = -np.inf\n",
    "track[-9, -4:] = -np.inf\n",
    "track[-10, -4:] = -np.inf\n",
    "track[-11, -4:] = -np.inf\n",
    "track[-12, -4:] = -np.inf\n",
    "track[-13, -4:] = -np.inf\n",
    "track[-14, -4:] = -np.inf\n",
    "track[-15, -4:] = -np.inf\n",
    "track[-16, -4:] = -np.inf\n",
    "track[-17, -4:] = -np.inf\n",
    "track[-18, -3:] = -np.inf\n",
    "track[-19, -3:] = -np.inf\n",
    "track[-20, -2:] = -np.inf\n",
    "track[-21, -2:] = -np.inf\n",
    "track[-22, -1:] = -np.inf"
   ]
  },
  {
   "cell_type": "code",
   "execution_count": 5,
   "id": "2fdc2d54",
   "metadata": {},
   "outputs": [
    {
     "data": {
      "text/plain": [
       "array([[-inf, -inf, -inf, -inf, -inf, -inf, -inf,   0.,   0.,   0.],\n",
       "       [-inf, -inf, -inf, -inf, -inf, -inf,   0.,   0.,   0.,   0.],\n",
       "       [-inf, -inf, -inf, -inf, -inf,   0.,   0.,   0.,   0.,   0.],\n",
       "       [-inf, -inf, -inf, -inf, -inf,   0.,   0.,   0.,   0., -inf],\n",
       "       [-inf, -inf, -inf, -inf,   0.,   0.,   0.,   0., -inf, -inf],\n",
       "       [-inf, -inf, -inf, -inf,   0.,   0.,   0.,   0., -inf, -inf],\n",
       "       [-inf, -inf, -inf,   0.,   0.,   0.,   0., -inf, -inf, -inf],\n",
       "       [-inf, -inf, -inf,   0.,   0.,   0.,   0., -inf, -inf, -inf],\n",
       "       [-inf, -inf,   0.,   0.,   0.,   0., -inf, -inf, -inf, -inf],\n",
       "       [-inf, -inf,   0.,   0.,   0.,   0., -inf, -inf, -inf, -inf],\n",
       "       [-inf, -inf,   0.,   0.,   0.,   0., -inf, -inf, -inf, -inf],\n",
       "       [-inf, -inf,   0.,   0.,   0.,   0., -inf, -inf, -inf, -inf],\n",
       "       [-inf, -inf,   0.,   0.,   0.,   0., -inf, -inf, -inf, -inf],\n",
       "       [-inf, -inf,   0.,   0.,   0.,   0., -inf, -inf, -inf, -inf],\n",
       "       [-inf, -inf,   0.,   0.,   0.,   0., -inf, -inf, -inf, -inf],\n",
       "       [-inf, -inf,   0.,   0.,   0.,   0., -inf, -inf, -inf, -inf],\n",
       "       [-inf, -inf,   0.,   0.,   0.,   0., -inf, -inf, -inf, -inf],\n",
       "       [-inf, -inf,   0.,   0.,   0.,   0., -inf, -inf, -inf, -inf],\n",
       "       [-inf, -inf, -inf,   0.,   0.,   0.,   0., -inf, -inf, -inf],\n",
       "       [-inf, -inf, -inf,   0.,   0.,   0.,   0., -inf, -inf, -inf],\n",
       "       [-inf, -inf, -inf, -inf,   0.,   0.,   0.,   0., -inf, -inf],\n",
       "       [-inf, -inf, -inf, -inf,   0.,   0.,   0.,   0.,   0., -inf],\n",
       "       [-inf, -inf, -inf, -inf, -inf,   0.,   0.,   0.,   0.,   0.],\n",
       "       [-inf, -inf, -inf, -inf, -inf,   0.,   0.,   0.,   0.,   0.],\n",
       "       [-inf, -inf, -inf, -inf, -inf, -inf,   0.,   0.,   0.,   0.]])"
      ]
     },
     "execution_count": 5,
     "metadata": {},
     "output_type": "execute_result"
    }
   ],
   "source": [
    "track"
   ]
  },
  {
   "cell_type": "code",
   "execution_count": 6,
   "id": "82376e8e",
   "metadata": {},
   "outputs": [
    {
     "data": {
      "text/plain": [
       "<matplotlib.image.AxesImage at 0x75f10c9a7f20>"
      ]
     },
     "execution_count": 6,
     "metadata": {},
     "output_type": "execute_result"
    },
    {
     "data": {
      "image/png": "[encoded data removed]",
      "text/plain": [
       "<Figure size 640x480 with 1 Axes>"
      ]
     },
     "metadata": {},
     "output_type": "display_data"
    }
   ],
   "source": [
    "plt.imshow(track)"
   ]
  },
  {
   "cell_type": "code",
   "execution_count": 7,
   "id": "753a41fd",
   "metadata": {},
   "outputs": [],
   "source": [
    "car = 1 \n",
    "curr_speed = 0"
   ]
  },
  {
   "cell_type": "code",
   "execution_count": 8,
   "id": "be121bbf",
   "metadata": {},
   "outputs": [],
   "source": [
    "starting_spots = [\n",
    "    (24, 6),\n",
    "    (24, 7),\n",
    "    (24, 8),\n",
    "    (24, 9),\n",
    "    (23, 9),\n",
    "    (22, 9),\n",
    "    (21, 9)\n",
    "]"
   ]
  },
  {
   "cell_type": "code",
   "execution_count": 9,
   "id": "f676de4e",
   "metadata": {},
   "outputs": [],
   "source": [
    "init_track = track.copy()"
   ]
  },
  {
   "cell_type": "code",
   "execution_count": 10,
   "id": "d1265a21",
   "metadata": {},
   "outputs": [
    {
     "data": {
      "text/plain": [
       "(22, 9)"
      ]
     },
     "execution_count": 10,
     "metadata": {},
     "output_type": "execute_result"
    }
   ],
   "source": [
    "starting_spot = starting_spots[np.random.choice(len(starting_spots))]\n",
    "starting_spot"
   ]
  },
  {
   "cell_type": "code",
   "execution_count": 11,
   "id": "c6afaffe",
   "metadata": {},
   "outputs": [],
   "source": [
    "track[starting_spot[0], starting_spot[1]] = car"
   ]
  },
  {
   "cell_type": "code",
   "execution_count": 12,
   "id": "97311a14",
   "metadata": {},
   "outputs": [
    {
     "data": {
      "text/plain": [
       "<matplotlib.image.AxesImage at 0x75f10c4199d0>"
      ]
     },
     "execution_count": 12,
     "metadata": {},
     "output_type": "execute_result"
    },
    {
     "data": {
      "image/png": "[encoded data removed]",
      "text/plain": [
       "<Figure size 640x480 with 1 Axes>"
      ]
     },
     "metadata": {},
     "output_type": "display_data"
    }
   ],
   "source": [
    "plt.imshow(track)"
   ]
  },
  {
   "cell_type": "code",
   "execution_count": 13,
   "id": "f7bb08e4",
   "metadata": {},
   "outputs": [],
   "source": [
    "track = init_track"
   ]
  },
  {
   "cell_type": "code",
   "execution_count": null,
   "id": "b7eeec08",
   "metadata": {},
   "outputs": [
    {
     "name": "stdout",
     "output_type": "stream",
     "text": [
      "[[-inf -inf -inf -inf -inf -inf -inf   0.   0.   0.]\n",
      " [-inf -inf -inf -inf -inf -inf   0.   0.   0.   0.]\n",
      " [-inf -inf -inf -inf -inf   0.   0.   0.   0.   0.]\n",
      " [-inf -inf -inf -inf -inf   0.   0.   0.   0. -inf]\n",
      " [-inf -inf -inf -inf   0.   0.   0.   0. -inf -inf]\n",
      " [-inf -inf -inf -inf   0.   0.   0.   0. -inf -inf]\n",
      " [-inf -inf -inf   0.   0.   0.   0. -inf -inf -inf]\n",
      " [-inf -inf -inf   0.   0.   0.   0. -inf -inf -inf]\n",
      " [-inf -inf   0.   0.   0.   0. -inf -inf -inf -inf]\n",
      " [-inf -inf   0.   0.   0.   0. -inf -inf -inf -inf]\n",
      " [-inf -inf   0.   0.   0.   0. -inf -inf -inf -inf]\n",
      " [-inf -inf   0.   0.   0.   0. -inf -inf -inf -inf]\n",
      " [-inf -inf   0.   0.   0.   0. -inf -inf -inf -inf]\n",
      " [-inf -inf   0.   0.   0.   0. -inf -inf -inf -inf]\n",
      " [-inf -inf   0.   0.   0.   0. -inf -inf -inf -inf]\n",
      " [-inf -inf   0.   0.   0.   0. -inf -inf -inf -inf]\n",
      " [-inf -inf   0.   0.   0.   0. -inf -inf -inf -inf]\n",
      " [-inf -inf   0.   0.   0.   0. -inf -inf -inf -inf]\n",
      " [-inf -inf -inf   0.   0.   0.   0. -inf -inf -inf]\n",
      " [-inf -inf -inf   0.   0.   0.   0. -inf -inf -inf]\n",
      " [-inf -inf -inf -inf   0.   0.   0.   0. -inf -inf]\n",
      " [-inf -inf -inf -inf   0.   0.   0.   0.   0. -inf]\n",
      " [-inf -inf -inf -inf -inf   0.   0.   0.   0.   0.]\n",
      " [-inf -inf -inf -inf -inf   0.   0.   0.   0.   0.]\n",
      "Valid move! -inf -inf -inf -inf   0.   1.   0.   0.]]\n",
      "[[-inf -inf -inf -inf -inf -inf -inf   0.   0.   0.]\n",
      " [-inf -inf -inf -inf -inf -inf   0.   0.   0.   0.]\n",
      " [-inf -inf -inf -inf -inf   0.   0.   0.   0.   0.]\n",
      " [-inf -inf -inf -inf -inf   0.   0.   0.   0. -inf]\n",
      " [-inf -inf -inf -inf   0.   0.   0.   0. -inf -inf]\n",
      " [-inf -inf -inf -inf   0.   0.   0.   0. -inf -inf]\n",
      " [-inf -inf -inf   0.   0.   0.   0. -inf -inf -inf]\n",
      " [-inf -inf -inf   0.   0.   0.   0. -inf -inf -inf]\n",
      " [-inf -inf   0.   0.   0.   0. -inf -inf -inf -inf]\n",
      " [-inf -inf   0.   0.   0.   0. -inf -inf -inf -inf]\n",
      " [-inf -inf   0.   0.   0.   0. -inf -inf -inf -inf]\n",
      " [-inf -inf   0.   0.   0.   0. -inf -inf -inf -inf]\n",
      " [-inf -inf   0.   0.   0.   0. -inf -inf -inf -inf]\n",
      " [-inf -inf   0.   0.   0.   0. -inf -inf -inf -inf]\n",
      " [-inf -inf   0.   0.   0.   0. -inf -inf -inf -inf]\n",
      " [-inf -inf   0.   0.   0.   0. -inf -inf -inf -inf]\n",
      " [-inf -inf   0.   0.   0.   0. -inf -inf -inf -inf]\n",
      " [-inf -inf   0.   0.   0.   0. -inf -inf -inf -inf]\n",
      " [-inf -inf -inf   0.   0.   0.   0. -inf -inf -inf]\n",
      " [-inf -inf -inf   0.   0.   0.   0. -inf -inf -inf]\n",
      " [-inf -inf -inf -inf   0.   0.   0.   0. -inf -inf]\n",
      " [-inf -inf -inf -inf   0.   0.   0.   0.   0. -inf]\n",
      " [-inf -inf -inf -inf -inf   0.   0.   0.   0.   0.]\n",
      " [-inf -inf -inf -inf -inf   0.   0.   1.   0.   0.]\n",
      "Valid move! -inf -inf -inf -inf   0.   0.   0.   0.]]\n",
      "[[-inf -inf -inf -inf -inf -inf -inf   0.   0.   0.]\n",
      " [-inf -inf -inf -inf -inf -inf   0.   0.   0.   0.]\n",
      " [-inf -inf -inf -inf -inf   0.   0.   0.   0.   0.]\n",
      " [-inf -inf -inf -inf -inf   0.   0.   0.   0. -inf]\n",
      " [-inf -inf -inf -inf   0.   0.   0.   0. -inf -inf]\n",
      " [-inf -inf -inf -inf   0.   0.   0.   0. -inf -inf]\n",
      " [-inf -inf -inf   0.   0.   0.   0. -inf -inf -inf]\n",
      " [-inf -inf -inf   0.   0.   0.   0. -inf -inf -inf]\n",
      " [-inf -inf   0.   0.   0.   0. -inf -inf -inf -inf]\n",
      " [-inf -inf   0.   0.   0.   0. -inf -inf -inf -inf]\n",
      " [-inf -inf   0.   0.   0.   0. -inf -inf -inf -inf]\n",
      " [-inf -inf   0.   0.   0.   0. -inf -inf -inf -inf]\n",
      " [-inf -inf   0.   0.   0.   0. -inf -inf -inf -inf]\n",
      " [-inf -inf   0.   0.   0.   0. -inf -inf -inf -inf]\n",
      " [-inf -inf   0.   0.   0.   0. -inf -inf -inf -inf]\n",
      " [-inf -inf   0.   0.   0.   0. -inf -inf -inf -inf]\n",
      " [-inf -inf   0.   0.   0.   0. -inf -inf -inf -inf]\n",
      " [-inf -inf   0.   0.   0.   0. -inf -inf -inf -inf]\n",
      " [-inf -inf -inf   0.   0.   0.   0. -inf -inf -inf]\n",
      " [-inf -inf -inf   0.   0.   0.   0. -inf -inf -inf]\n",
      " [-inf -inf -inf -inf   0.   0.   0.   0. -inf -inf]\n",
      " [-inf -inf -inf -inf   0.   0.   0.   0.   0. -inf]\n",
      " [-inf -inf -inf -inf -inf   0.   0.   0.   0.   0.]\n",
      " [-inf -inf -inf -inf -inf   0.   0.   1.   0.   0.]\n",
      "Valid move! -inf -inf -inf -inf   0.   0.   0.   0.]]\n",
      "[[-inf -inf -inf -inf -inf -inf -inf   0.   0.   0.]\n",
      " [-inf -inf -inf -inf -inf -inf   0.   0.   0.   0.]\n",
      " [-inf -inf -inf -inf -inf   0.   0.   0.   0.   0.]\n",
      " [-inf -inf -inf -inf -inf   0.   0.   0.   0. -inf]\n",
      " [-inf -inf -inf -inf   0.   0.   0.   0. -inf -inf]\n",
      " [-inf -inf -inf -inf   0.   0.   0.   0. -inf -inf]\n",
      " [-inf -inf -inf   0.   0.   0.   0. -inf -inf -inf]\n",
      " [-inf -inf -inf   0.   0.   0.   0. -inf -inf -inf]\n",
      " [-inf -inf   0.   0.   0.   0. -inf -inf -inf -inf]\n",
      " [-inf -inf   0.   0.   0.   0. -inf -inf -inf -inf]\n",
      " [-inf -inf   0.   0.   0.   0. -inf -inf -inf -inf]\n",
      " [-inf -inf   0.   0.   0.   0. -inf -inf -inf -inf]\n",
      " [-inf -inf   0.   0.   0.   0. -inf -inf -inf -inf]\n",
      " [-inf -inf   0.   0.   0.   0. -inf -inf -inf -inf]\n",
      " [-inf -inf   0.   0.   0.   0. -inf -inf -inf -inf]\n",
      " [-inf -inf   0.   0.   0.   0. -inf -inf -inf -inf]\n",
      " [-inf -inf   0.   0.   0.   0. -inf -inf -inf -inf]\n",
      " [-inf -inf   0.   0.   0.   0. -inf -inf -inf -inf]\n",
      " [-inf -inf -inf   0.   0.   0.   0. -inf -inf -inf]\n",
      " [-inf -inf -inf   0.   0.   0.   0. -inf -inf -inf]\n",
      " [-inf -inf -inf -inf   0.   0.   0.   0. -inf -inf]\n",
      " [-inf -inf -inf -inf   0.   0.   0.   0.   0. -inf]\n",
      " [-inf -inf -inf -inf -inf   0.   0.   0.   0.   0.]\n",
      " [-inf -inf -inf -inf -inf   0.   0.   1.   0.   0.]\n",
      "Valid move! -inf -inf -inf -inf   0.   0.   0.   0.]]\n",
      "[[-inf -inf -inf -inf -inf -inf -inf   0.   0.   0.]\n",
      " [-inf -inf -inf -inf -inf -inf   0.   0.   0.   0.]\n",
      " [-inf -inf -inf -inf -inf   0.   0.   0.   0.   0.]\n",
      " [-inf -inf -inf -inf -inf   0.   0.   0.   0. -inf]\n",
      " [-inf -inf -inf -inf   0.   0.   0.   0. -inf -inf]\n",
      " [-inf -inf -inf -inf   0.   0.   0.   0. -inf -inf]\n",
      " [-inf -inf -inf   0.   0.   0.   0. -inf -inf -inf]\n",
      " [-inf -inf -inf   0.   0.   0.   0. -inf -inf -inf]\n",
      " [-inf -inf   0.   0.   0.   0. -inf -inf -inf -inf]\n",
      " [-inf -inf   0.   0.   0.   0. -inf -inf -inf -inf]\n",
      " [-inf -inf   0.   0.   0.   0. -inf -inf -inf -inf]\n",
      " [-inf -inf   0.   0.   0.   0. -inf -inf -inf -inf]\n",
      " [-inf -inf   0.   0.   0.   0. -inf -inf -inf -inf]\n",
      " [-inf -inf   0.   0.   0.   0. -inf -inf -inf -inf]\n",
      " [-inf -inf   0.   0.   0.   0. -inf -inf -inf -inf]\n",
      " [-inf -inf   0.   0.   0.   0. -inf -inf -inf -inf]\n",
      " [-inf -inf   0.   0.   0.   0. -inf -inf -inf -inf]\n",
      " [-inf -inf   0.   0.   0.   0. -inf -inf -inf -inf]\n",
      " [-inf -inf -inf   0.   0.   0.   0. -inf -inf -inf]\n",
      " [-inf -inf -inf   0.   0.   0.   0. -inf -inf -inf]\n",
      " [-inf -inf -inf -inf   0.   0.   0.   0. -inf -inf]\n",
      " [-inf -inf -inf -inf   0.   0.   0.   0.   0. -inf]\n",
      " [-inf -inf -inf -inf -inf   0.   0.   0.   0.   0.]\n",
      " [-inf -inf -inf -inf -inf   0.   0.   1.   0.   0.]\n",
      "Valid move! -inf -inf -inf -inf   0.   0.   0.   0.]]\n",
      "[[-inf -inf -inf -inf -inf -inf -inf   0.   0.   0.]\n",
      " [-inf -inf -inf -inf -inf -inf   0.   0.   0.   0.]\n",
      " [-inf -inf -inf -inf -inf   0.   0.   0.   0.   0.]\n",
      " [-inf -inf -inf -inf -inf   0.   0.   0.   0. -inf]\n",
      " [-inf -inf -inf -inf   0.   0.   0.   0. -inf -inf]\n",
      " [-inf -inf -inf -inf   0.   0.   0.   0. -inf -inf]\n",
      " [-inf -inf -inf   0.   0.   0.   0. -inf -inf -inf]\n",
      " [-inf -inf -inf   0.   0.   0.   0. -inf -inf -inf]\n",
      " [-inf -inf   0.   0.   0.   0. -inf -inf -inf -inf]\n",
      " [-inf -inf   0.   0.   0.   0. -inf -inf -inf -inf]\n",
      " [-inf -inf   0.   0.   0.   0. -inf -inf -inf -inf]\n",
      " [-inf -inf   0.   0.   0.   0. -inf -inf -inf -inf]\n",
      " [-inf -inf   0.   0.   0.   0. -inf -inf -inf -inf]\n",
      " [-inf -inf   0.   0.   0.   0. -inf -inf -inf -inf]\n",
      " [-inf -inf   0.   0.   0.   0. -inf -inf -inf -inf]\n",
      " [-inf -inf   0.   0.   0.   0. -inf -inf -inf -inf]\n",
      " [-inf -inf   0.   0.   0.   0. -inf -inf -inf -inf]\n",
      " [-inf -inf   0.   0.   0.   0. -inf -inf -inf -inf]\n",
      " [-inf -inf -inf   0.   0.   0.   0. -inf -inf -inf]\n",
      " [-inf -inf -inf   0.   0.   0.   0. -inf -inf -inf]\n",
      " [-inf -inf -inf -inf   0.   0.   0.   0. -inf -inf]\n",
      " [-inf -inf -inf -inf   0.   0.   0.   0.   0. -inf]\n",
      " [-inf -inf -inf -inf -inf   0.   0.   0.   0.   0.]\n",
      " [-inf -inf -inf -inf -inf   0.   0.   1.   0.   0.]\n",
      "Valid move! -inf -inf -inf -inf   0.   0.   0.   0.]]\n",
      "[[-inf -inf -inf -inf -inf -inf -inf   0.   0.   0.]\n",
      " [-inf -inf -inf -inf -inf -inf   0.   0.   0.   0.]\n",
      " [-inf -inf -inf -inf -inf   0.   0.   0.   0.   0.]\n",
      " [-inf -inf -inf -inf -inf   0.   0.   0.   0. -inf]\n",
      " [-inf -inf -inf -inf   0.   0.   0.   0. -inf -inf]\n",
      " [-inf -inf -inf -inf   0.   0.   0.   0. -inf -inf]\n",
      " [-inf -inf -inf   0.   0.   0.   0. -inf -inf -inf]\n",
      " [-inf -inf -inf   0.   0.   0.   0. -inf -inf -inf]\n",
      " [-inf -inf   0.   0.   0.   0. -inf -inf -inf -inf]\n",
      " [-inf -inf   0.   0.   0.   0. -inf -inf -inf -inf]\n",
      " [-inf -inf   0.   0.   0.   0. -inf -inf -inf -inf]\n",
      " [-inf -inf   0.   0.   0.   0. -inf -inf -inf -inf]\n",
      " [-inf -inf   0.   0.   0.   0. -inf -inf -inf -inf]\n",
      " [-inf -inf   0.   0.   0.   0. -inf -inf -inf -inf]\n",
      " [-inf -inf   0.   0.   0.   0. -inf -inf -inf -inf]\n",
      " [-inf -inf   0.   0.   0.   0. -inf -inf -inf -inf]\n",
      " [-inf -inf   0.   0.   0.   0. -inf -inf -inf -inf]\n",
      " [-inf -inf   0.   0.   0.   0. -inf -inf -inf -inf]\n",
      " [-inf -inf -inf   0.   0.   0.   0. -inf -inf -inf]\n",
      " [-inf -inf -inf   0.   0.   0.   0. -inf -inf -inf]\n",
      " [-inf -inf -inf -inf   0.   0.   0.   0. -inf -inf]\n",
      " [-inf -inf -inf -inf   0.   0.   0.   0.   0. -inf]\n",
      " [-inf -inf -inf -inf -inf   0.   0.   0.   0.   0.]\n",
      " [-inf -inf -inf -inf -inf   0.   0.   1.   0.   0.]\n",
      " [-inf -inf -inf -inf -inf -inf   0.   0.   0.   0.]]\r"
     ]
    }
   ],
   "source": [
    "# init\n",
    "car = 1 \n",
    "curr_speed = 0\n",
    "track = init_track\n",
    "starting_spot = starting_spots[np.random.choice(len(starting_spots))]\n",
    "track[*starting_spot] = car\n",
    "curr_pos = np.array(starting_spot)\n",
    "curr_vel = 0\n",
    "print(track, end='\\r')\n",
    "\n",
    "while True:\n",
    "    action = input(\"Enter a direction\")\n",
    "    actions = [\"up\", \"left\", \"right\"]\n",
    "    track[*curr_pos] = 0\n",
    "    curr_speed += curr_vel * 1\n",
    "    if action == \"up\":\n",
    "        curr_pos[0] = curr_pos[0] - 1       \n",
    "    elif action == \"left\":\n",
    "        curr_pos[1] = curr_pos[1] - 1  \n",
    "    elif action == \"right\":\n",
    "        curr_pos[1] = curr_pos[1] + 1\n",
    "    \n",
    "    if track[*curr_pos] == -np.inf:\n",
    "        print(\"Out of bounds!\")\n",
    "        break\n",
    "    else:\n",
    "        print(\"Valid move!\")\n",
    "        track[*curr_pos] = car\n",
    "    print(track, end='\\r')"
   ]
  },
  {
   "cell_type": "code",
   "execution_count": null,
   "id": "ce1227c7",
   "metadata": {},
   "outputs": [],
   "source": []
  },
  {
   "cell_type": "code",
   "execution_count": null,
   "id": "10ffc817",
   "metadata": {},
   "outputs": [],
   "source": []
  }
 ],
 "metadata": {
  "kernelspec": {
   "display_name": "Python 3",
   "language": "python",
   "name": "python3"
  },
  "language_info": {
   "codemirror_mode": {
    "name": "ipython",
    "version": 3
   },
   "file_extension": ".py",
   "mimetype": "text/x-python",
   "name": "python",
   "nbconvert_exporter": "python",
   "pygments_lexer": "ipython3",
   "version": "3.12.1"
  }
 },
 "nbformat": 4,
 "nbformat_minor": 5
}
